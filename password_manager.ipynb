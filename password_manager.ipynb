{
 "cells": [
  {
   "cell_type": "code",
   "execution_count": 1,
   "metadata": {},
   "outputs": [
    {
     "name": "stdout",
     "output_type": "stream",
     "text": [
      "Enter the current password :  rit123\n"
     ]
    },
    {
     "name": "stdout",
     "output_type": "stream",
     "text": [
      "True\n",
      "Security Level of current password is Level 1\n",
      "\n",
      "Do you want to change your current password ? \n"
     ]
    },
    {
     "name": "stdout",
     "output_type": "stream",
     "text": [
      "Enter yes or no :  yes\n",
      "Enter new password :  ritik\n"
     ]
    },
    {
     "name": "stdout",
     "output_type": "stream",
     "text": [
      "Password set criteria doesnot matched !\n"
     ]
    }
   ],
   "source": [
    "class BasePasswordManager:\n",
    "    old_passwords = []\n",
    "    def get_password(self) :\n",
    "        return old_passwords[-1]\n",
    "    def  is_correct(self,str):\n",
    "        if str == old_passwords[-1]:\n",
    "            return True\n",
    "        else:\n",
    "            return False\n",
    "\n",
    "class PasswordManager(BasePasswordManager):\n",
    "    def set_password(self):\n",
    "        new_password = input(\"Enter new password : \")\n",
    "        output = obj.get_level(new_password)\n",
    "        if len(new_password)>=6 and output >= result:\n",
    "            curr_password = new_password\n",
    "            print(\"Password set successfully !\")\n",
    "            old_passwords.append(new_password)\n",
    "            print(\"New Current Password : \" + curr_password)\n",
    "            print(\"Security Level of new current password is Level \" + str(output))\n",
    "        else :\n",
    "            print(\"Password set criteria doesnot matched !\")\n",
    "    def get_level(self, str1):\n",
    "        if str1.isalpha() or str1.isdecimal() :\n",
    "            level = 0\n",
    "        elif str1.isalnum() :\n",
    "            level = 1\n",
    "        else :\n",
    "            level = 2\n",
    "        return level\n",
    "obj = PasswordManager()            \n",
    "str0 = input(\"Enter the current password : \")\n",
    "old_passwords = ['ritik@12', 'rit123']\n",
    "print(obj.is_correct(str0))\n",
    "result = obj.get_level(old_passwords[-1])\n",
    "print(\"Security Level of current password is Level \" + str(result))\n",
    "print(\"\\nDo you want to change your current password ? \")\n",
    "s = input(\"Enter yes or no : \")\n",
    "if s == 'yes' :\n",
    "    obj.set_password()\n",
    "\n"
   ]
  },
  {
   "cell_type": "code",
   "execution_count": null,
   "metadata": {},
   "outputs": [],
   "source": [
    "\n",
    "        "
   ]
  },
  {
   "cell_type": "code",
   "execution_count": null,
   "metadata": {},
   "outputs": [],
   "source": []
  }
 ],
 "metadata": {
  "kernelspec": {
   "display_name": "Python 3",
   "language": "python",
   "name": "python3"
  },
  "language_info": {
   "codemirror_mode": {
    "name": "ipython",
    "version": 3
   },
   "file_extension": ".py",
   "mimetype": "text/x-python",
   "name": "python",
   "nbconvert_exporter": "python",
   "pygments_lexer": "ipython3",
   "version": "3.7.6"
  }
 },
 "nbformat": 4,
 "nbformat_minor": 4
}
